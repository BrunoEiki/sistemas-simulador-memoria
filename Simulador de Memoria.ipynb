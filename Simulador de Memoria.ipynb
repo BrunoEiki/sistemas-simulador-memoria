{
 "cells": [
  {
   "cell_type": "code",
   "execution_count": null,
   "metadata": {},
   "outputs": [],
   "source": [
    "memoria = ['00000000' for i in range(16)]\n",
    "while True:\n",
    "    op = input('Digite W para escrever, R para ler, L para listar toda a memoria e qualquer tecla para parar.\\n')\n",
    "    if op == 'W':\n",
    "        endereco = int(input('Digite o endereco de 4 bits: '), 2)\n",
    "        dado = input('Digite o dado de 8 bits: ')\n",
    "        if len(dado) > 8:\n",
    "            print('Tamanho excedido!')\n",
    "            continue\n",
    "        memoria[endereco] = dado\n",
    "    elif op == 'R':\n",
    "        endereco = int(input('Digite o endereco de 4 bits'), 2)\n",
    "        print(memoria[endereco])\n",
    "    elif op == 'L':\n",
    "        print('Todos os estados')\n",
    "        for i in memoria:\n",
    "            print(i)\n",
    "    else:\n",
    "        break"
   ]
  },
  {
   "cell_type": "code",
   "execution_count": null,
   "metadata": {},
   "outputs": [],
   "source": []
  }
 ],
 "metadata": {
  "kernelspec": {
   "display_name": "Python 3.8.5 64-bit",
   "language": "python",
   "name": "python38564bit862c23b62b374b3ea490c6af10ae8c85"
  },
  "language_info": {
   "codemirror_mode": {
    "name": "ipython",
    "version": 3
   },
   "file_extension": ".py",
   "mimetype": "text/x-python",
   "name": "python",
   "nbconvert_exporter": "python",
   "pygments_lexer": "ipython3",
   "version": "3.8.5"
  }
 },
 "nbformat": 4,
 "nbformat_minor": 4
}
